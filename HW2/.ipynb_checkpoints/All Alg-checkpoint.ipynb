{
 "cells": [
  {
   "cell_type": "code",
   "execution_count": 1,
   "metadata": {},
   "outputs": [],
   "source": [
    "import mlrose\n",
    "import numpy as np\n",
    "import matplotlib.pyplot as plt"
   ]
  },
  {
   "cell_type": "code",
   "execution_count": 2,
   "metadata": {},
   "outputs": [],
   "source": [
    "def queens_fitness(state):\n",
    "    fitness_cnt = 0\n",
    "    for i in range(len(state) - 1):\n",
    "        for j in range(i + 1, len(state)):\n",
    "            if (state[j] != state[i]) \\\n",
    "                and (state[j] != state[i] + (j - i)) \\\n",
    "                and (state[j] != state[i] - (j - i)):\n",
    "                fitness_cnt += 1\n",
    "\n",
    "    return fitness_cnt\n",
    "\n",
    "fitness_cust = mlrose.CustomFitness(queens_fitness)\n",
    "\n",
    "schedule = mlrose.ArithDecay(init_temp=1,decay=0.01)"
   ]
  },
  {
   "cell_type": "code",
   "execution_count": 7,
   "metadata": {},
   "outputs": [],
   "source": [
    "n_list = list(range(5,21))\n",
    "bf_sa_list = []\n",
    "bf_rhc_list = []\n",
    "bf_ga_list = []\n",
    "bf_mimic_list = []\n",
    "\n",
    "for n in n_list:\n",
    "    problem = mlrose.DiscreteOpt(length = n, fitness_fn = fitness_cust, maximize = True, max_val = n)\n",
    "    \n",
    "    init_state = list(range(n))\n",
    "    \n",
    "    best_state, best_fitness_sa = \\\n",
    "    mlrose.simulated_annealing(problem=problem, \n",
    "                           schedule=schedule,\n",
    "                           max_attempts=100, \n",
    "                           init_state=init_state,\n",
    "                           random_state=1,\n",
    "                           curve=False)\n",
    "    bf_sa_list.append(best_fitness_sa)\n",
    "    \n",
    "    best_state, best_fitness_rhc = \\\n",
    "    mlrose.random_hill_climb(problem=problem,\n",
    "                            max_attempts=100,\n",
    "                            curve=False,\n",
    "                            random_state=1,\n",
    "                            restarts=5)\n",
    "    bf_rhc_list.append(best_fitness_rhc)\n",
    "    \n",
    "    best_state, best_fitness_ga = \\\n",
    "    mlrose.genetic_alg(problem=problem,\n",
    "                            pop_size=100,\n",
    "                            mutation_prob=0.1,\n",
    "                            max_attempts=100,\n",
    "                            curve=False,\n",
    "                            random_state=1,\n",
    "                            )\n",
    "    bf_ga_list.append(best_fitness_ga)\n",
    "    \n",
    "    best_state, best_fitness_mimic = \\\n",
    "    mlrose.mimic(problem=problem,\n",
    "                            pop_size=200,\n",
    "                            keep_pct=0.1,\n",
    "                            max_attempts=100,\n",
    "                            curve=False,\n",
    "                            random_state=1,\n",
    "                            )\n",
    "    bf_mimic_list.append(best_fitness_mimic)"
   ]
  },
  {
   "cell_type": "code",
   "execution_count": 10,
   "metadata": {},
   "outputs": [
    {
     "data": {
      "image/png": "[encoded data removed]",
      "text/plain": [
       "<Figure size 432x288 with 1 Axes>"
      ]
     },
     "metadata": {},
     "output_type": "display_data"
    }
   ],
   "source": [
    "import matplotlib.pyplot as plt\n",
    "s = int(len(n_list)/3)\n",
    "e = int(2*len(n_list)/3)\n",
    "plt.plot(n_list[s:e], bf_sa_list[s:e], label=\"SA\")\n",
    "plt.plot(n_list[s:e], bf_rhc_list[s:e], label='RHC')\n",
    "plt.plot(n_list[s:e], bf_ga_list[s:e], label='GA')\n",
    "plt.plot(n_list[s:e], bf_mimic_list[s:e], label='MIMIC')\n",
    "plt.legend()\n",
    "plt.xlabel('N')\n",
    "plt.ylabel('fitness score')\n",
    "plt.show()"
   ]
  }
 ],
 "metadata": {
  "kernelspec": {
   "display_name": "Python 3",
   "language": "python",
   "name": "python3"
  },
  "language_info": {
   "codemirror_mode": {
    "name": "ipython",
    "version": 3
   },
   "file_extension": ".py",
   "mimetype": "text/x-python",
   "name": "python",
   "nbconvert_exporter": "python",
   "pygments_lexer": "ipython3",
   "version": "3.6.5"
  }
 },
 "nbformat": 4,
 "nbformat_minor": 2
}
