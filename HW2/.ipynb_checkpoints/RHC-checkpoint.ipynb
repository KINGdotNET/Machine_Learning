{
 "cells": [
  {
   "cell_type": "code",
   "execution_count": 92,
   "metadata": {},
   "outputs": [],
   "source": [
    "import numpy as np\n",
    "import matplotlib.pyplot as plt\n",
    "\n",
    "def rhc(max_iter=50, fitness_func=None, space=None, step=1, opt=0, **args):\n",
    "    assert fitness_func is not None\n",
    "    assert space is not None\n",
    "\n",
    "    if max_iter > len(space): max_iter = len(space)\n",
    "\n",
    "    idx = np.random.permutation(np.arange(len(space)))\n",
    "\n",
    "    globalx = space[idx[0]]\n",
    "    for i in range(max_iter):\n",
    "        curr = space[idx[i]]\n",
    "#         print(\"randomized search: {}|{}\".format(i+1, max_iter))\n",
    "        while True:\n",
    "            maxx = curr\n",
    "            left, right = find_neighbor(curr=curr, step=step)\n",
    "            neighbors = check_inbound(left, right, space)\n",
    "            if isinstance(curr, str):\n",
    "                curr = convert_binary(curr, bits=args['bits'])\n",
    "                maxx = convert_binary(maxx, bits=args['bits'])\n",
    "                neighbors = [convert_binary(n, bits=args['bits']) for n in neighbors]\n",
    "            for neighbor in neighbors:\n",
    "                if fitness_func(neighbor)>fitness_func(curr):\n",
    "                    maxx = neighbor     \n",
    "            if is_equal(maxx, curr):\n",
    "                if fitness_func(curr)>fitness_func(globalx):\n",
    "                    globalx = curr\n",
    "                break\n",
    "            else:\n",
    "#                 print(\"update {} to {}\".format(curr, maxx))\n",
    "                curr = maxx\n",
    "                curr = rconvert_binary(curr)\n",
    "        if isinstance(opt, str):\n",
    "            if fitness_func(globalx) == fitness_func(opt):\n",
    "                break\n",
    "        else:\n",
    "            if np.abs(globalx-opt) < 1e-6:\n",
    "                break\n",
    "    return i+1, globalx\n",
    "\n",
    "def is_equal(i1, i2):\n",
    "    if isinstance(i1, str):\n",
    "        return i1==i2\n",
    "    else:\n",
    "        return np.abs(i1-i2) < 1e-6\n",
    "\n",
    "def find_neighbor(curr=None, step=1):\n",
    "    assert curr is not None\n",
    "    \n",
    "    if isinstance(curr, str):\n",
    "        int_curr = int(curr,2)\n",
    "        left = bin(int_curr-step)\n",
    "        right = bin(int_curr+step)\n",
    "    elif isinstance(curr, float):\n",
    "        left = round(curr-step,1)\n",
    "        right = round(curr+step,1)\n",
    "    else:\n",
    "        raise Exception(\"input type incorrect\")\n",
    "    \n",
    "    return left, right\n",
    "\n",
    "def check_inbound(left, right, space):\n",
    "    results = []\n",
    "    if isinstance(left, str):\n",
    "        if left in space:\n",
    "            results.append(left)\n",
    "        if right in space:\n",
    "            results.append(right)\n",
    "    else:\n",
    "        if np.any(np.abs(space-left)<1e-6): results.append(left)\n",
    "        if np.any(np.abs(space-right)<1e-6): results.append(right)\n",
    "#     print(left, right)\n",
    "#     print(results)\n",
    "    return results\n",
    "\n",
    "def convert_binary(x, bits=10):\n",
    "    return x[2:].zfill(bits)\n",
    "\n",
    "def rconvert_binary(x):\n",
    "    if isinstance(x, str): return bin(int(x,2))\n",
    "    return x\n",
    "\n",
    "def rhc_queen(max_iter=50, fitness_func=None, n=4, opt=100):\n",
    "    chess = np.zeros([n,n])\n",
    "    # initial position generation\n",
    "    ipos = []\n",
    "    for i in range(10000):\n",
    "        irow, icol = np.random.randint(0,n), np.random.randint(0,n)\n",
    "        if [irow, icol] not in ipos: ipos.append([irow, icol])\n",
    "        if len(ipos) == n: break\n",
    "    for pos in ipos:\n",
    "        chess[pos[0],pos[1]] = 1\n",
    "\n",
    "    for i in range(max_iter):\n",
    "#         print(\"randomized search: {}|{}\".format(i+1, max_iter))\n",
    "        cur_score = fitness_func(chess)\n",
    "        # find neighbor\n",
    "        # randomly generate neighbor for a random queen\n",
    "        new_chess = update_neighbor(chess)\n",
    "        new_score = fitness_func(new_chess)\n",
    "#         print(new_score, cur_score)\n",
    "        if new_score > cur_score:\n",
    "            chess = new_chess\n",
    "        if fitness_func(chess) == opt:\n",
    "            break\n",
    "    return i+1, chess\n",
    "\n",
    "def update_neighbor(x):\n",
    "    n = len(x)\n",
    "    pos_change = list(range(-int(n/2),int(n/2)+1))\n",
    "\n",
    "    queens = np.where(x==1)\n",
    "    # print(queens)\n",
    "    queens = [[queens[0][i],queens[1][i]] for i in range(len(queens[0]))]\n",
    "\n",
    "    cnt = 0\n",
    "    while True:\n",
    "        r = np.random.randint(0, len(queens))\n",
    "        row, col = queens[r][0], queens[r][1]\n",
    "        idx = [np.random.choice(pos_change), np.random.choice(pos_change)]\n",
    "        if row+idx[0]<=n-1 \\\n",
    "            and row+idx[0]>=0 \\\n",
    "            and col+idx[1]<=n-1 \\\n",
    "            and col+idx[1]>=0 \\\n",
    "            and [row+idx[0], col+idx[1]] not in queens:\n",
    "            queens[r] = [row+idx[0], col+idx[1]]\n",
    "            cnt += 1\n",
    "            if cnt==int(1): break\n",
    "    # cnt = 0\n",
    "    # while True:\n",
    "    #     row, col = np.random.randint(0, len(queens)), np.random.randint(0, len(queens))\n",
    "    #     if [row, col] not in queens: \n",
    "    #         queens.pop(-1)\n",
    "    #         queens.append([row, col])\n",
    "    #         cnt += 1\n",
    "    #         if cnt==2: break\n",
    "    chess = np.zeros([n,n])\n",
    "    for q in queens:\n",
    "        chess[q[0],q[1]] = 1\n",
    "\n",
    "    return chess\n",
    "\n"
   ]
  },
  {
   "cell_type": "code",
   "execution_count": 40,
   "metadata": {
    "collapsed": true
   },
   "outputs": [
    {
     "data": {
      "image/png": "[encoded data removed]",
      "text/plain": [
       "<Figure size 432x288 with 1 Axes>"
      ]
     },
     "metadata": {},
     "output_type": "display_data"
    },
    {
     "data": {
      "image/png": "[encoded data removed]",
      "text/plain": [
       "<Figure size 432x288 with 1 Axes>"
      ]
     },
     "metadata": {},
     "output_type": "display_data"
    }
   ],
   "source": [
    "\n",
    "\"\"\"\n",
    "polynomial problem\n",
    "\"\"\"\n",
    "def fitness_func(x):\n",
    "    return (x-11)*(x-5)*(x-14)*(x-3)*(x-13)*(x-9)*(x-6.4)*(x-18)*(x-18.5)*(x-2.8)*(x-19.1)\n",
    "\n",
    "space = np.arange(2.2,18,0.1)\n",
    "\n",
    "iter_list = []\n",
    "results = []\n",
    "for i in range(100):\n",
    "    iteration, result = rhc(max_iter=10, fitness_func=fitness_func, space=space, step=0.1, opt=5.6)\n",
    "    iter_list.append(iteration)\n",
    "    results.append(round(result,1))\n",
    "#     print(\"x for global maximum value is: {}\".format(result))\n",
    "plt.hist(results, bins=20)\n",
    "plt.xlabel(\"convergence value\")\n",
    "plt.show()\n",
    "\n",
    "plt.hist(iter_list, bins=10)\n",
    "plt.xlabel(\"number of iterations\")\n",
    "plt.show()"
   ]
  },
  {
   "cell_type": "code",
   "execution_count": 79,
   "metadata": {},
   "outputs": [],
   "source": [
    "\"\"\"\n",
    "alternation problem\n",
    "\"\"\"\n",
    "def fitness_func(x):\n",
    "    if '0b' in x:\n",
    "        x = x[2:].zfill(bits)\n",
    "    cnt = 0\n",
    "    curr = x[0]\n",
    "    for i, char in enumerate(x):\n",
    "        if i==0: continue\n",
    "        if char != curr:\n",
    "            cnt += 1\n",
    "            curr = char\n",
    "    return cnt\n",
    "\n",
    "step = 1\n",
    "lower = 0\n",
    "upper = 1023 # binary for this is '11111111111111111111', 20 bits\n",
    "bits=10\n",
    "opt = '1010101010'\n",
    "\n",
    "space = [bin(x) for x in np.arange(lower, upper, step)]\n",
    "\n",
    "iter_list = []\n",
    "results = []\n",
    "\n",
    "for i in range(100):\n",
    "    iteration, result = rhc(max_iter=100, fitness_func=fitness_func, space=space, step=1, bits=bits, opt=opt)\n",
    "#     print(\"x for global maximum value is: {}\".format(result))\n",
    "    results.append(result)\n",
    "    iter_list.append(iteration)"
   ]
  },
  {
   "cell_type": "code",
   "execution_count": 80,
   "metadata": {
    "scrolled": false
   },
   "outputs": [
    {
     "data": {
      "text/plain": [
       "Text(0,0.5,'convergence value')"
      ]
     },
     "execution_count": 80,
     "metadata": {},
     "output_type": "execute_result"
    },
    {
     "data": {
      "image/png": "[encoded data removed]",
      "text/plain": [
       "<Figure size 432x288 with 1 Axes>"
      ]
     },
     "metadata": {},
     "output_type": "display_data"
    }
   ],
   "source": [
    "results_dict = {}\n",
    "for r in results:\n",
    "    if r in results_dict.keys():\n",
    "        results_dict[r] += 1\n",
    "    else:\n",
    "        results_dict[r] =1\n",
    "        \n",
    "plt.barh(list(results_dict.keys()), list(results_dict.values()))\n",
    "plt.ylabel(\"convergence value\")"
   ]
  },
  {
   "cell_type": "code",
   "execution_count": 83,
   "metadata": {},
   "outputs": [
    {
     "data": {
      "text/plain": [
       "40"
      ]
     },
     "execution_count": 83,
     "metadata": {},
     "output_type": "execute_result"
    }
   ],
   "source": [
    "results_dict['1010101010']"
   ]
  },
  {
   "cell_type": "code",
   "execution_count": 81,
   "metadata": {
    "scrolled": true
   },
   "outputs": [
    {
     "data": {
      "text/plain": [
       "Text(0.5,0,'number of iterations')"
      ]
     },
     "execution_count": 81,
     "metadata": {},
     "output_type": "execute_result"
    },
    {
     "data": {
      "image/png": "[encoded data removed]",
      "text/plain": [
       "<Figure size 432x288 with 1 Axes>"
      ]
     },
     "metadata": {},
     "output_type": "display_data"
    }
   ],
   "source": [
    "plt.hist(iter_list)\n",
    "plt.xlabel(\"number of iterations\")"
   ]
  },
  {
   "cell_type": "code",
   "execution_count": null,
   "metadata": {},
   "outputs": [],
   "source": [
    "\"\"\"\n",
    "n - queens problem\n",
    "\"\"\"\n",
    "def fitness_func(x):\n",
    "    n = len(x)\n",
    "    score = 100\n",
    "    # search queens\n",
    "    queens = np.where(x==1)\n",
    "\n",
    "    # check row conflicts\n",
    "    score -= (len(queens[0]) - len(set(queens[0])))*2\n",
    "    # check col conflicts\n",
    "    score -= (len(queens[1]) - len(set(queens[1])))*2\n",
    "    # check diagnal conflicts\n",
    "    queens = [[queens[0][i],queens[1][i]] for i in range(len(queens[0]))]\n",
    "    for pos in queens:\n",
    "        search_se = [pos[0]+1, pos[1]+1]\n",
    "        search_nw = [pos[0]-1, pos[1]-1]\n",
    "        search_sw = [pos[0]+1, pos[1]-1]\n",
    "        search_ne = [pos[0]-1, pos[1]+1]\n",
    "        while True:\n",
    "            # southeast\n",
    "            if not np.all(np.isnan(search_se)):\n",
    "                if search_se[0] > n-1 or search_se[1] > n-1: \n",
    "                    search_se = np.nan\n",
    "                else:\n",
    "                    if search_se in queens:\n",
    "                        score -= 1\n",
    "                    search_se = [search_se[0]+1, search_se[1]+1]\n",
    "            # northwest\n",
    "            if not np.all(np.isnan(search_nw)):\n",
    "                if search_nw[0] < 0 or search_nw[1] < 0:\n",
    "                    search_nw = np.nan\n",
    "                else:\n",
    "                    if search_nw in queens:\n",
    "                        score -= 1\n",
    "                    search_nw = [search_nw[0]-1, search_nw[1]-1]\n",
    "            # southwest\n",
    "            if not np.all(np.isnan(search_sw)):\n",
    "                if search_sw[0] > n-1 or search_sw[1] < 0:\n",
    "                    search_sw = np.nan\n",
    "                else:\n",
    "                    if search_sw in queens:\n",
    "                        score -= 1\n",
    "                    search_sw = [search_sw[0]+1, search_sw[1]-1]\n",
    "            # northeast\n",
    "            if not np.all(np.isnan(search_ne)):\n",
    "                if search_ne[0] < 0 or search_ne[1] > n-1:\n",
    "                    search_ne = np.nan\n",
    "                else:\n",
    "                    if search_ne in queens:\n",
    "                        score -= 1\n",
    "                    search_ne = [search_ne[0]-1, search_ne[1]+1]\n",
    "            if np.all(np.isnan(search_se))\\\n",
    "            and np.all(np.isnan(search_nw))\\\n",
    "            and np.all(np.isnan(search_sw))\\\n",
    "            and np.all(np.isnan(search_ne)): break\n",
    "    return score\n",
    "\n",
    "\n",
    "iter_list = []\n",
    "results = []\n",
    "for i in range(100):\n",
    "    print(i+1)\n",
    "    iteration, chess = rhc_queen(max_iter=200, fitness_func=fitness_func, n=5)\n",
    "#     print(chess)\n",
    "    iter_list.append(iteration)\n",
    "    results.append(chess)"
   ]
  },
  {
   "cell_type": "code",
   "execution_count": null,
   "metadata": {},
   "outputs": [],
   "source": [
    "results = [fitness_func(r) for r in results]"
   ]
  }
 ],
 "metadata": {
  "kernelspec": {
   "display_name": "Python 3",
   "language": "python",
   "name": "python3"
  },
  "language_info": {
   "codemirror_mode": {
    "name": "ipython",
    "version": 3
   },
   "file_extension": ".py",
   "mimetype": "text/x-python",
   "name": "python",
   "nbconvert_exporter": "python",
   "pygments_lexer": "ipython3",
   "version": "3.6.5"
  }
 },
 "nbformat": 4,
 "nbformat_minor": 2
}
