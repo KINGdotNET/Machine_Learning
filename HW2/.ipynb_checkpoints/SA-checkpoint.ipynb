{
 "cells": [
  {
   "cell_type": "code",
   "execution_count": 17,
   "metadata": {},
   "outputs": [],
   "source": [
    "import numpy as np\n",
    "import random\n",
    "import matplotlib.pyplot as plt\n",
    "\n",
    "def sim_anneal(max_T=2000, min_T=50, T_step=1, fitness_func=None, space=None, opt=0):\n",
    "    assert fitness_func is not None\n",
    "    assert space is not None\n",
    "\n",
    "    max_iter = int((max_T-min_T)/T_step)\n",
    "    curr_T = max_T\n",
    "\n",
    "    idx = random.randint(0, len(space))\n",
    "    curr = space[idx]\n",
    "\n",
    "    for i in range(max_iter):\n",
    "#         print(\"simulated annuealing: {}|{}\".format(i+1, max_iter))\n",
    "        idx = random.randint(0, len(space)-1)\n",
    "        if fitness_func(space[idx])>=fitness_func(curr):\n",
    "            curr = space[idx]\n",
    "        else:\n",
    "            p = np.exp((fitness_func(space[idx])-fitness_func(curr))/curr_T)\n",
    "            p_bench = random.uniform(0,1)\n",
    "            if p>=p_bench:\n",
    "                curr = space[idx]\n",
    "        curr_T -= T_step\n",
    "        if isinstance(curr, str):\n",
    "            if fitness_func(curr) == opt:\n",
    "                break\n",
    "        else:\n",
    "            if np.abs(curr-opt) < 1e-6:\n",
    "                break\n",
    "    return i+1, curr\n",
    "\n",
    "def sim_anneal_queen(max_T=20, min_T=2, T_step=0.1, fitness_func=None, n=4):\n",
    "    chess = update_chess(n)\n",
    "\n",
    "    curr_T = max_T\n",
    "    max_iter = int((max_T-min_T)/T_step)\n",
    "    for i in range(max_iter):\n",
    "        print(\"simulated annuealing: {}|{}\".format(i+1, max_iter))\n",
    "        new_chess = update_chess(n)\n",
    "        print(fitness_func(new_chess),fitness_func(chess))\n",
    "        if fitness_func(new_chess) > fitness_func(chess):\n",
    "            chess = new_chess\n",
    "        else:\n",
    "            p = np.exp((fitness_func(new_chess)-fitness_func(chess))/curr_T)\n",
    "            p_bench = random.uniform(0,1)\n",
    "            if p>=p_bench:\n",
    "                chess = new_chess\n",
    "        curr_T -= T_step\n",
    "    return chess\n",
    "\n",
    "def update_chess(n):\n",
    "    chess = np.zeros([n,n])\n",
    "    ipos = []\n",
    "    for i in range(10000):\n",
    "        irow, icol = np.random.randint(0,n), np.random.randint(0,n)\n",
    "        if [irow, icol] not in ipos: ipos.append([irow, icol])\n",
    "        if len(ipos) == n: break\n",
    "    for pos in ipos:\n",
    "        chess[pos[0],pos[1]] = 1\n",
    "    return chess"
   ]
  },
  {
   "cell_type": "code",
   "execution_count": 13,
   "metadata": {},
   "outputs": [],
   "source": [
    "\"\"\"\n",
    "polynomial problem\n",
    "\"\"\"\n",
    "def fitness_func(x):\n",
    "    return (x-11)*(x-5)*(x-14)*(x-3)*(x-13)*(x-9)*(x-6.4)*(x-18)*(x-18.5)*(x-2.8)*(x-19.1)\n",
    "\n",
    "space = np.arange(2.2,18,0.1)\n",
    "opt = 5.6\n",
    "\n",
    "iter_list = []\n",
    "results = []\n",
    "for i in range(100):\n",
    "    iteration, result = sim_anneal(max_T=1000000, min_T=5000, T_step=10000, fitness_func=fitness_func, space=space, opt=opt)\n",
    "# print(\"x for global maximum value is: {}\".format(result))\n",
    "    iter_list.append(iteration)\n",
    "    results.append(result)"
   ]
  },
  {
   "cell_type": "code",
   "execution_count": 18,
   "metadata": {},
   "outputs": [
    {
     "data": {
      "text/plain": [
       "Text(0.5,0,'convergence value')"
      ]
     },
     "execution_count": 18,
     "metadata": {},
     "output_type": "execute_result"
    },
    {
     "data": {
      "image/png": "[encoded data removed]",
      "text/plain": [
       "<Figure size 432x288 with 1 Axes>"
      ]
     },
     "metadata": {},
     "output_type": "display_data"
    }
   ],
   "source": [
    "plt.hist(results)\n",
    "plt.xlabel(\"convergence value\")"
   ]
  },
  {
   "cell_type": "code",
   "execution_count": 20,
   "metadata": {},
   "outputs": [
    {
     "data": {
      "text/plain": [
       "Text(0.5,0,'number of iterations')"
      ]
     },
     "execution_count": 20,
     "metadata": {},
     "output_type": "execute_result"
    },
    {
     "data": {
      "image/png": "[encoded data removed]",
      "text/plain": [
       "<Figure size 432x288 with 1 Axes>"
      ]
     },
     "metadata": {},
     "output_type": "display_data"
    }
   ],
   "source": [
    "plt.hist(iter_list)\n",
    "plt.xlabel(\"number of iterations\")"
   ]
  }
 ],
 "metadata": {
  "kernelspec": {
   "display_name": "Python 3",
   "language": "python",
   "name": "python3"
  },
  "language_info": {
   "codemirror_mode": {
    "name": "ipython",
    "version": 3
   },
   "file_extension": ".py",
   "mimetype": "text/x-python",
   "name": "python",
   "nbconvert_exporter": "python",
   "pygments_lexer": "ipython3",
   "version": "3.6.5"
  }
 },
 "nbformat": 4,
 "nbformat_minor": 2
}
