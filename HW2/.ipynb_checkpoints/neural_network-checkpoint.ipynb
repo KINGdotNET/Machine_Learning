{
 "cells": [
  {
   "cell_type": "code",
   "execution_count": 1,
   "metadata": {},
   "outputs": [],
   "source": [
    "import mlrose\n",
    "import pandas as pd\n",
    "from sklearn.metrics import accuracy_score"
   ]
  },
  {
   "cell_type": "code",
   "execution_count": 2,
   "metadata": {},
   "outputs": [
    {
     "name": "stdout",
     "output_type": "stream",
     "text": [
      "0.5510013351134846\n"
     ]
    }
   ],
   "source": [
    "df_eeg = pd.read_csv(\"eeg_dataset.csv\")\n",
    "\n",
    "y = df_eeg['y']\n",
    "X = df_eeg.drop(columns=['y'])\n",
    "\n",
    "model_hc = mlrose.NeuralNetwork(hidden_nodes = [1024,512,256,32], activation = 'relu', \\\n",
    "                             algorithm = 'random_hill_climb', max_iters = 1000, \\\n",
    "                             bias = True, is_classifier = True, learning_rate = 0.0001, \\\n",
    "                             early_stopping = True, clip_max = 5, max_attempts = 100, \\\n",
    "                             random_state = 3)\n",
    "model_hc.fit(X, y)\n",
    "\n",
    "y_pred = model_hc.predict(X)\n",
    "\n",
    "model_hc.score\n",
    "\n",
    "print(accuracy_score(y, y_pred))"
   ]
  }
 ],
 "metadata": {
  "kernelspec": {
   "display_name": "Python 3",
   "language": "python",
   "name": "python3"
  },
  "language_info": {
   "codemirror_mode": {
    "name": "ipython",
    "version": 3
   },
   "file_extension": ".py",
   "mimetype": "text/x-python",
   "name": "python",
   "nbconvert_exporter": "python",
   "pygments_lexer": "ipython3",
   "version": "3.6.5"
  }
 },
 "nbformat": 4,
 "nbformat_minor": 2
}
